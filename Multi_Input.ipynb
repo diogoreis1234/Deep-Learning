{
 "cells": [
  {
   "cell_type": "markdown",
   "metadata": {},
   "source": [
    "# 1.Version"
   ]
  },
  {
   "cell_type": "code",
   "execution_count": 2,
   "metadata": {},
   "outputs": [
    {
     "name": "stdout",
     "output_type": "stream",
     "text": [
      "2.16.1\n"
     ]
    }
   ],
   "source": [
    "import tensorflow as tf\n",
    "print(tf.__version__)\n",
    "\n",
    "#https://github.com/adapt-python/adapt/issues/118"
   ]
  },
  {
   "cell_type": "markdown",
   "metadata": {},
   "source": [
    "# 2.Imports "
   ]
  },
  {
   "cell_type": "code",
   "execution_count": 1,
   "metadata": {},
   "outputs": [],
   "source": [
    "# Importing the required packages\n",
    "import pandas as pd\n",
    "import numpy as np\n",
    "import os, shutil\n",
    "import math\n",
    "import matplotlib.pyplot as plt\n",
    "\n",
    "import urllib.request\n",
    "from tqdm import tqdm\n",
    "from PIL import Image\n",
    "import cv2\n",
    "import pickle\n",
    "\n",
    "\n",
    "from sklearn.model_selection import train_test_split\n",
    "from sklearn.metrics import classification_report, f1_score\n",
    "from keras.metrics import F1Score\n",
    "\n",
    "import keras\n",
    "import tensorflow as tf\n",
    "from keras.callbacks import EarlyStopping\n",
    "from tensorflow.keras.preprocessing.image import ImageDataGenerator\n",
    "from tensorflow.keras import layers, models, optimizers\n",
    "from tensorflow.keras.models import Sequential, Model #-> Versão 2.12\n",
    "from tensorflow.keras.layers import Input, Conv2D, MaxPooling2D, Flatten, Dense, Dropout, MaxPool2D, GlobalAveragePooling2D, concatenate #-> Versão 2.12\n",
    "from tensorflow.keras.optimizers import RMSprop, Adam #-> Versão 2.12\n",
    "from tensorflow.keras.applications import VGG16, ResNet101, ResNet101V2, InceptionV3\n",
    "import keras.backend as K\n",
    "from tensorflow.keras.models import load_model \n",
    "from tensorflow.keras.utils import to_categorical\n"
   ]
  },
  {
   "cell_type": "markdown",
   "metadata": {},
   "source": [
    "- **md5hash**: A unique identifier for each image.\n",
    "- **fitzpatrick_scale**: The Fitzpatrick scale value for the skin type in the image.\n",
    "- **fitzpatrick_centaur**: Another scale related to the Fitzpatrick scale, potentially adjusted or annotated differently.\n",
    "- **label**: The target variable indicating the skin condition diagnosed in the image.\n",
    "- **nine_partition_label** and **three_partition_label**: These columns seem to categorize conditions into broader groups.\n",
    "- **qc**: A column that might relate to quality control or other annotations, which is empty in the first few rows.\n",
    "- **url**: The URL of the image of the skin lesion.\n",
    "- **url_alphanum**: A version of the URL with only alphanumeric characters, likely for easier processing or identification.\n"
   ]
  },
  {
   "cell_type": "code",
   "execution_count": 3,
   "metadata": {},
   "outputs": [
    {
     "data": {
      "text/plain": [
       "'c:\\\\Users\\\\Filipe\\\\VSCODE PROJECTS\\\\project_DL'"
      ]
     },
     "execution_count": 3,
     "metadata": {},
     "output_type": "execute_result"
    }
   ],
   "source": [
    "# Getting the current working directory\n",
    "directory = os.getcwd()\n",
    "directory"
   ]
  },
  {
   "cell_type": "markdown",
   "metadata": {},
   "source": [
    "# 3.Images DownLoad and Preprocessing"
   ]
  },
  {
   "cell_type": "code",
   "execution_count": 4,
   "metadata": {},
   "outputs": [],
   "source": [
    "df = pd.read_csv('c:\\\\Users\\\\Filipe\\\\VSCODE PROJECTS\\\\project_DL\\\\fitzpatrick17k.csv', sep=',')"
   ]
  },
  {
   "cell_type": "code",
   "execution_count": 5,
   "metadata": {},
   "outputs": [
    {
     "name": "stdout",
     "output_type": "stream",
     "text": [
      "<class 'pandas.core.frame.DataFrame'>\n",
      "RangeIndex: 16577 entries, 0 to 16576\n",
      "Data columns (total 9 columns):\n",
      " #   Column                 Non-Null Count  Dtype \n",
      "---  ------                 --------------  ----- \n",
      " 0   md5hash                16577 non-null  object\n",
      " 1   fitzpatrick_scale      16577 non-null  int64 \n",
      " 2   fitzpatrick_centaur    16577 non-null  int64 \n",
      " 3   label                  16577 non-null  object\n",
      " 4   nine_partition_label   16577 non-null  object\n",
      " 5   three_partition_label  16577 non-null  object\n",
      " 6   qc                     504 non-null    object\n",
      " 7   url                    16536 non-null  object\n",
      " 8   url_alphanum           16577 non-null  object\n",
      "dtypes: int64(2), object(7)\n",
      "memory usage: 1.1+ MB\n"
     ]
    }
   ],
   "source": [
    "df.info()"
   ]
  },
  {
   "cell_type": "code",
   "execution_count": 6,
   "metadata": {},
   "outputs": [
    {
     "data": {
      "text/plain": [
       "41"
      ]
     },
     "execution_count": 6,
     "metadata": {},
     "output_type": "execute_result"
    }
   ],
   "source": [
    "df['url'].isna().sum()"
   ]
  },
  {
   "cell_type": "code",
   "execution_count": 7,
   "metadata": {},
   "outputs": [],
   "source": [
    "# Dropping the rows with missing values\n",
    "df.dropna(subset=['url'], inplace=True)"
   ]
  },
  {
   "cell_type": "code",
   "execution_count": 8,
   "metadata": {},
   "outputs": [
    {
     "name": "stderr",
     "output_type": "stream",
     "text": [
      " 77%|███████▋  | 12659/16536 [00:03<00:00, 5710.88it/s]"
     ]
    },
    {
     "name": "stdout",
     "output_type": "stream",
     "text": [
      "Failed to download http://atlasdermatologico.com.br/img?imageId=6724: <urlopen error [SSL: CERTIFICATE_VERIFY_FAILED] certificate verify failed: certificate has expired (_ssl.c:1007)>\n",
      "Failed to download http://atlasdermatologico.com.br/img?imageId=4030: <urlopen error [SSL: CERTIFICATE_VERIFY_FAILED] certificate verify failed: certificate has expired (_ssl.c:1007)>\n"
     ]
    },
    {
     "name": "stderr",
     "output_type": "stream",
     "text": [
      " 80%|████████  | 13232/16536 [00:05<00:05, 647.52it/s] "
     ]
    },
    {
     "name": "stdout",
     "output_type": "stream",
     "text": [
      "Failed to download http://atlasdermatologico.com.br/img?imageId=5399: <urlopen error [SSL: CERTIFICATE_VERIFY_FAILED] certificate verify failed: certificate has expired (_ssl.c:1007)>\n",
      "Failed to download http://atlasdermatologico.com.br/img?imageId=4505: <urlopen error [SSL: CERTIFICATE_VERIFY_FAILED] certificate verify failed: certificate has expired (_ssl.c:1007)>\n"
     ]
    },
    {
     "name": "stderr",
     "output_type": "stream",
     "text": [
      " 82%|████████▏ | 13639/16536 [00:07<00:06, 472.45it/s]"
     ]
    },
    {
     "name": "stdout",
     "output_type": "stream",
     "text": [
      "Failed to download http://atlasdermatologico.com.br/img?imageId=8362: <urlopen error [SSL: CERTIFICATE_VERIFY_FAILED] certificate verify failed: certificate has expired (_ssl.c:1007)>\n",
      "Failed to download http://atlasdermatologico.com.br/img?imageId=4031: <urlopen error [SSL: CERTIFICATE_VERIFY_FAILED] certificate verify failed: certificate has expired (_ssl.c:1007)>\n"
     ]
    },
    {
     "name": "stderr",
     "output_type": "stream",
     "text": [
      " 84%|████████▍ | 13932/16536 [00:09<00:07, 339.90it/s]"
     ]
    },
    {
     "name": "stdout",
     "output_type": "stream",
     "text": [
      "Failed to download http://atlasdermatologico.com.br/img?imageId=8363: <urlopen error [SSL: CERTIFICATE_VERIFY_FAILED] certificate verify failed: certificate has expired (_ssl.c:1007)>\n"
     ]
    },
    {
     "name": "stderr",
     "output_type": "stream",
     "text": [
      " 90%|████████▉ | 14819/16536 [00:10<00:03, 543.89it/s]"
     ]
    },
    {
     "name": "stdout",
     "output_type": "stream",
     "text": [
      "Failed to download http://atlasdermatologico.com.br/img?imageId=2767: <urlopen error [SSL: CERTIFICATE_VERIFY_FAILED] certificate verify failed: certificate has expired (_ssl.c:1007)>\n"
     ]
    },
    {
     "name": "stderr",
     "output_type": "stream",
     "text": [
      " 92%|█████████▏| 15238/16536 [00:11<00:02, 527.75it/s]"
     ]
    },
    {
     "name": "stdout",
     "output_type": "stream",
     "text": [
      "Failed to download http://atlasdermatologico.com.br/img?imageId=2766: <urlopen error [SSL: CERTIFICATE_VERIFY_FAILED] certificate verify failed: certificate has expired (_ssl.c:1007)>\n"
     ]
    },
    {
     "name": "stderr",
     "output_type": "stream",
     "text": [
      "100%|██████████| 16536/16536 [00:12<00:00, 1350.52it/s]"
     ]
    },
    {
     "name": "stdout",
     "output_type": "stream",
     "text": [
      "Failed to download http://atlasdermatologico.com.br/img?imageId=8364: <urlopen error [SSL: CERTIFICATE_VERIFY_FAILED] certificate verify failed: certificate has expired (_ssl.c:1007)>\n",
      "Total de imagens com URL faltando: 0\n",
      "Total de URLs não encontradas (HTTP 404): 0\n",
      "Total de falhas no download: 10\n",
      "Total de imagens baixadas ou já presentes: 16526\n"
     ]
    },
    {
     "name": "stderr",
     "output_type": "stream",
     "text": [
      "\n"
     ]
    }
   ],
   "source": [
    "def download_images_and_check_missing(df, target_dir):\n",
    "    # Inicializa contadores para diferentes tipos de falhas\n",
    "    total_missing_url = 0\n",
    "    total_url_not_found = 0\n",
    "    total_failed_downloads = 0\n",
    "    total_downloaded = 0\n",
    "\n",
    "    # Garante que o diretório de destino exista\n",
    "    if not os.path.exists(target_dir):\n",
    "        os.makedirs(target_dir)\n",
    "    \n",
    "    headers = {\n",
    "        'User-Agent': 'Mozilla/5.0 (Windows NT 10.0; Win64; x64) AppleWebKit/537.36 (KHTML, like Gecko) Chrome/58.0.3029.110 Safari/537.3',\n",
    "        'Accept': 'text/html,application/xhtml+xml,application/xml;q=0.9,image/webp,*/*;q=0.8'\n",
    "    }\n",
    "\n",
    "    for i, row in tqdm(df.iterrows(), total=df.shape[0]):\n",
    "        if pd.isnull(row['url']):\n",
    "            total_missing_url += 1\n",
    "            continue\n",
    "        \n",
    "        url = row['url']\n",
    "        filename = os.path.join(target_dir, f\"{row['md5hash']}.jpg\")\n",
    "\n",
    "        if os.path.exists(filename):\n",
    "            total_downloaded += 1\n",
    "            continue\n",
    "\n",
    "        req = urllib.request.Request(url, headers=headers)\n",
    "\n",
    "        try:\n",
    "            with urllib.request.urlopen(req) as response, open(filename, 'wb') as out_file:\n",
    "                data = response.read()\n",
    "                out_file.write(data)\n",
    "                total_downloaded += 1\n",
    "        except urllib.error.HTTPError as e:\n",
    "            if e.code == 404:\n",
    "                total_url_not_found += 1\n",
    "                print(f\"URL not found {url}, skipping.\")\n",
    "            else:\n",
    "                total_failed_downloads += 1\n",
    "                print(f\"Failed to download {url}: HTTP Error {e.code}\")\n",
    "        except Exception as e:\n",
    "            total_failed_downloads += 1\n",
    "            print(f\"Failed to download {url}: {str(e)}\")\n",
    "\n",
    "    # Imprime um resumo dos resultados\n",
    "    print(f\"Total de imagens com URL faltando: {total_missing_url}\")\n",
    "    print(f\"Total de URLs não encontradas (HTTP 404): {total_url_not_found}\")\n",
    "    print(f\"Total de falhas no download: {total_failed_downloads}\")\n",
    "    print(f\"Total de imagens baixadas ou já presentes: {total_downloaded}\")\n",
    "\n",
    "# Supondo que 'df' é o seu DataFrame e 'images' é o seu diretório de destino\n",
    "download_images_and_check_missing(df, 'images')\n"
   ]
  },
  {
   "cell_type": "markdown",
   "metadata": {},
   "source": [
    "Since we have 41 missing URLs and 10 that aren't valid we are going to drop this rows."
   ]
  },
  {
   "cell_type": "code",
   "execution_count": 9,
   "metadata": {},
   "outputs": [],
   "source": [
    "invalid_urls = [\n",
    "    \"http://atlasdermatologico.com.br/img?imageId=6724\",\n",
    "    \"http://atlasdermatologico.com.br/img?imageId=4030\",\n",
    "    \"http://atlasdermatologico.com.br/img?imageId=5399\",\n",
    "    \"http://atlasdermatologico.com.br/img?imageId=4505\",\n",
    "    \"http://atlasdermatologico.com.br/img?imageId=8362\",\n",
    "    \"http://atlasdermatologico.com.br/img?imageId=4031\",\n",
    "    \"http://atlasdermatologico.com.br/img?imageId=8363\",\n",
    "    \"http://atlasdermatologico.com.br/img?imageId=2767\",\n",
    "    \"http://atlasdermatologico.com.br/img?imageId=2766\",\n",
    "    \"http://atlasdermatologico.com.br/img?imageId=8364\"\n",
    "]\n",
    "\n",
    "df = df[~df['url'].isin(invalid_urls)]"
   ]
  },
  {
   "cell_type": "code",
   "execution_count": 10,
   "metadata": {},
   "outputs": [
    {
     "name": "stderr",
     "output_type": "stream",
     "text": [
      "  0%|          | 0/16526 [00:00<?, ?it/s]"
     ]
    },
    {
     "name": "stderr",
     "output_type": "stream",
     "text": [
      "100%|██████████| 16526/16526 [00:11<00:00, 1469.96it/s]"
     ]
    },
    {
     "name": "stdout",
     "output_type": "stream",
     "text": [
      "Total de imagens problemáticas: 0\n"
     ]
    },
    {
     "name": "stderr",
     "output_type": "stream",
     "text": [
      "\n"
     ]
    }
   ],
   "source": [
    "# Path to the directory containing the images\n",
    "images_dir = 'c:\\\\Users\\\\Filipe\\\\VSCODE PROJECTS\\\\project_DL\\\\images'\n",
    "\n",
    "# List of problematic images\n",
    "problematic_images = []\n",
    "\n",
    "# Verify the integrity of each image\n",
    "for filename in tqdm(os.listdir(images_dir)):\n",
    "    if not filename.endswith('.jpg'):  # Ignore non-image files\n",
    "        continue\n",
    "    \n",
    "    try:\n",
    "        img_path = os.path.join(images_dir, filename)\n",
    "        with Image.open(img_path) as img:\n",
    "            img.verify()  # Try to open the image and check for any errors\n",
    "    except Exception as e:\n",
    "        print(f\"Erro ao verificar a imagem {filename}: {e}\")\n",
    "        problematic_images.append(filename)\n",
    "\n",
    "# Print the total number of problematic images\n",
    "print(f\"Total de imagens problemáticas: {len(problematic_images)}\")\n"
   ]
  },
  {
   "cell_type": "code",
   "execution_count": 11,
   "metadata": {},
   "outputs": [
    {
     "name": "stdout",
     "output_type": "stream",
     "text": [
      "Total images in training: 13220\n",
      "Total images in validation: 1653\n",
      "Total images in testing: 1653\n"
     ]
    }
   ],
   "source": [
    "base_dir = \"images\"\n",
    "\n",
    "# Define the subdirectories\n",
    "train_dir = \"POPULATION\\\\train\"\n",
    "val_dir = \"POPULATION\\\\val\"\n",
    "test_dir = \"POPULATION\\\\test\"\n",
    "\n",
    "# Check if directories already exist\n",
    "if not (os.path.exists(train_dir) and os.path.exists(val_dir) and os.path.exists(test_dir)):\n",
    "    # Create the directories if they don't exist\n",
    "    os.makedirs(train_dir, exist_ok=True)\n",
    "    os.makedirs(val_dir, exist_ok=True)\n",
    "    os.makedirs(test_dir, exist_ok=True)\n",
    "\n",
    "    # Split the data into train, validation, and test sets\n",
    "    train_ratio = 0.8\n",
    "    val_ratio = 0.1\n",
    "    test_ratio = 0.1\n",
    "\n",
    "    df_train_val, df_test = train_test_split(df, test_size=test_ratio, stratify=df['label'], random_state=42)\n",
    "    df_train, df_val = train_test_split(df_train_val, test_size=val_ratio/(train_ratio+val_ratio), stratify=df_train_val['label'], random_state=42)\n",
    "\n",
    "    # Function to copy images to respective directories\n",
    "    def copy_images(df, dest_dir):\n",
    "        for _, row in df.iterrows():\n",
    "            file_name = f\"{row['md5hash']}.jpg\"\n",
    "            source_path = os.path.join(base_dir, file_name)\n",
    "\n",
    "            if not os.path.isfile(source_path):\n",
    "                print(f\"File not found: {source_path}\")\n",
    "                continue\n",
    "\n",
    "            label_dir = os.path.join(dest_dir, row['label'])\n",
    "            os.makedirs(label_dir, exist_ok=True)\n",
    "\n",
    "            destination_path = os.path.join(label_dir, file_name)\n",
    "            shutil.copy(source_path, destination_path)\n",
    "\n",
    "    copy_images(df_train, train_dir)\n",
    "    copy_images(df_val, val_dir)\n",
    "    copy_images(df_test, test_dir)\n",
    "\n",
    "\n",
    "# Function to count images in a directory\n",
    "def count_images(dir_path):\n",
    "    count = 0\n",
    "    for _, dirs, files in os.walk(dir_path):\n",
    "        count += len(files)\n",
    "    return count\n",
    "\n",
    "print(f\"Total images in training: {count_images(train_dir)}\")\n",
    "print(f\"Total images in validation: {count_images(val_dir)}\")\n",
    "print(f\"Total images in testing: {count_images(test_dir)}\")"
   ]
  },
  {
   "cell_type": "markdown",
   "metadata": {},
   "source": [
    "# 4.Functions"
   ]
  },
  {
   "cell_type": "code",
   "execution_count": 12,
   "metadata": {},
   "outputs": [],
   "source": [
    "def training_plots(history):\n",
    "    acc = history.history['categorical_accuracy']\n",
    "    val_acc = history.history['val_categorical_accuracy']\n",
    "    loss = history.history['loss']\n",
    "    val_loss = history.history['val_loss']\n",
    "    f1 = history.history['f1_metric']  \n",
    "    val_f1 = history.history['val_f1_metric'] \n",
    "\n",
    "    epochs = range(1, len(acc) + 1)\n",
    "\n",
    "    plt.figure(figsize=(15, 5))\n",
    "\n",
    "    # Plot training & validation accuracy\n",
    "    plt.subplot(1, 3, 1)\n",
    "    plt.plot(epochs, acc, 'bo', label='Training Accuracy')\n",
    "    plt.plot(epochs, val_acc, 'b', label='Validation Accuracy')\n",
    "    plt.title('Training and Validation Accuracy')\n",
    "    plt.xlabel('Epoch')\n",
    "    plt.ylabel('Accuracy')\n",
    "    plt.legend()\n",
    "\n",
    "    # Plot training & validation loss\n",
    "    plt.subplot(1, 3, 2)\n",
    "    plt.plot(epochs, loss, 'bo', label='Training Loss')\n",
    "    plt.plot(epochs, val_loss, 'b', label='Validation Loss')\n",
    "    plt.title('Training and Validation Loss')\n",
    "    plt.xlabel('Epoch')\n",
    "    plt.ylabel('Loss')\n",
    "    plt.legend()\n",
    "\n",
    "    # Plot training & validation F1 score\n",
    "    plt.subplot(1, 3, 3)\n",
    "    plt.plot(epochs, f1, 'bo', label='Training F1 Score')\n",
    "    plt.plot(epochs, val_f1, 'b', label='Validation F1 Score')\n",
    "    plt.title('Training and Validation F1 Score')\n",
    "    plt.xlabel('Epoch')\n",
    "    plt.ylabel('F1 Score')\n",
    "    plt.legend()\n",
    "\n",
    "    plt.tight_layout()\n",
    "    plt.show()"
   ]
  },
  {
   "cell_type": "code",
   "execution_count": 15,
   "metadata": {},
   "outputs": [],
   "source": [
    "#https://stackoverflow.com/questions/59963911/how-to-write-a-custom-f1-loss-function-with-weighted-average-for-keras\n",
    "from tensorflow.keras import backend as K\n",
    "\n",
    "def f1_metric(true, pred):\n",
    "    # predLabels = K.argmax(pred, axis=-1)  # Uncomment these lines if 'pred' needs to be converted\n",
    "    # pred = K.one_hot(predLabels, 4)      # from probabilities to one-hot encoded values\n",
    "\n",
    "    ground_positives = K.sum(true, axis=0) + K.epsilon()       # = TP + FN\n",
    "    pred_positives = K.sum(pred, axis=0) + K.epsilon()         # = TP + FP\n",
    "    true_positives = K.sum(true * pred, axis=0) + K.epsilon()  # = TP\n",
    "    \n",
    "    precision = true_positives / pred_positives \n",
    "    recall = true_positives / ground_positives\n",
    "    \n",
    "    f1 = 2 * (precision * recall) / (precision + recall + K.epsilon())\n",
    "    \n",
    "    weighted_f1 = f1 * ground_positives / K.sum(ground_positives) \n",
    "    weighted_f1 = K.sum(weighted_f1)\n",
    "    \n",
    "    return weighted_f1  # Return the weighted F1 score directly\n"
   ]
  },
  {
   "cell_type": "markdown",
   "metadata": {},
   "source": [
    "# 7.CallBacks - Early Stopping"
   ]
  },
  {
   "cell_type": "code",
   "execution_count": 60,
   "metadata": {},
   "outputs": [],
   "source": [
    "callbacks_list_f1 = [\n",
    "    keras.callbacks.EarlyStopping(\n",
    "        patience=5,\n",
    "        monitor='val_f1_metric',\n",
    "        mode='max' \n",
    "    ),\n",
    "]"
   ]
  },
  {
   "cell_type": "markdown",
   "metadata": {},
   "source": [
    "For all our multi input models we decided to use callbacks with EarlyStopping based on the 'val_f1_metric' as our objective is to maximize this metric on unseen data (test set). We saw on the previous models that the f1 metric was still getting higher, but the model was getting stopped because of the loss. We will take this approach so that we can maximize the f1 metric, even if that means we have overfitting and a higher loss. This decision will help us have better overall results on unseen data (test set) on the main metrics (accuracy and f1) as we will check later in the report."
   ]
  },
  {
   "cell_type": "markdown",
   "metadata": {},
   "source": [
    "# 10. Multi input "
   ]
  },
  {
   "cell_type": "markdown",
   "metadata": {},
   "source": [
    "## 10.1 Preprocessing"
   ]
  },
  {
   "cell_type": "code",
   "execution_count": 18,
   "metadata": {},
   "outputs": [],
   "source": [
    "# Define the paths to your validation and test directories\n",
    "train_directory = r'C:\\Users\\Filipe\\VSCODE PROJECTS\\project_DL\\POPULATION\\train'\n",
    "val_directory = r'C:\\Users\\Filipe\\VSCODE PROJECTS\\project_DL\\POPULATION\\val'\n",
    "test_directory = r'C:\\Users\\Filipe\\VSCODE PROJECTS\\project_DL\\POPULATION\\test'\n",
    "\n",
    "# Function to create mapping between MD5 hashes and fitzpatrick_scale values\n",
    "def create_mapping_fitzpatrick(directory):\n",
    "    md5hash_to_fitzpatrick = {}\n",
    "    for folder_name in os.listdir(directory):\n",
    "        folder_path = os.path.join(directory, folder_name)\n",
    "        for filename in os.listdir(folder_path):\n",
    "            md5hash = filename[:-4]\n",
    "            fitzpatrick_scale = df[df['md5hash'] == md5hash]['fitzpatrick_scale'].iloc[0]\n",
    "            md5hash_to_fitzpatrick[filename] = fitzpatrick_scale\n",
    "    return md5hash_to_fitzpatrick\n",
    "\n",
    "# Create mappings for validation and test datasets\n",
    "train_md5hash_to_fitzpatrick = create_mapping_fitzpatrick(train_directory)\n",
    "val_md5hash_to_fitzpatrick = create_mapping_fitzpatrick(val_directory)\n",
    "test_md5hash_to_fitzpatrick = create_mapping_fitzpatrick(test_directory)\n"
   ]
  },
  {
   "cell_type": "code",
   "execution_count": 19,
   "metadata": {},
   "outputs": [],
   "source": [
    "# Function to create mapping between MD5 hashes and fitzpatrick_scale values\n",
    "def create_mapping_label(directory):\n",
    "    md5hash_to_fitzpatrick = {}\n",
    "    for folder_name in os.listdir(directory):\n",
    "        folder_path = os.path.join(directory, folder_name)\n",
    "        for filename in os.listdir(folder_path):\n",
    "            md5hash = filename[:-4]\n",
    "            fitzpatrick_scale = df[df['md5hash'] == md5hash]['label'].iloc[0]\n",
    "            md5hash_to_fitzpatrick[filename] = fitzpatrick_scale\n",
    "    return md5hash_to_fitzpatrick\n",
    "\n",
    "# Create mappings for validation and test datasets\n",
    "train_md5hash_to_label = create_mapping_label(train_directory)\n",
    "val_md5hash_to_label = create_mapping_label(val_directory)\n",
    "test_md5hash_to_label = create_mapping_label(test_directory)\n"
   ]
  },
  {
   "cell_type": "code",
   "execution_count": 20,
   "metadata": {},
   "outputs": [],
   "source": [
    "def load_and_preprocess_images(directory, md5hash_to_label):\n",
    "    images = []\n",
    "    labels = []\n",
    "    label_mapping = {label: index for index, label in enumerate(sorted(set(df['label'])))} \n",
    "    for md5hash, label in md5hash_to_label.items():\n",
    "        label = md5hash_to_label[md5hash]\n",
    "        filename = label + '\\\\' + md5hash\n",
    "        filepath = os.path.join(directory, filename)\n",
    "        image = cv2.imread(filepath)\n",
    "        if image is not None:\n",
    "            image = cv2.resize(image, (224, 224))  # Resize images to fit input shape\n",
    "            image = image / 255.0  # Normalize pixel values to [0, 1]\n",
    "            images.append(image)\n",
    "            labels.append(label_mapping[label])  # Convert class name to integer label\n",
    "    return np.array(images), np.array(labels)\n",
    "\n",
    "# Load and preprocess images for training\n",
    "train_images, train_labels = load_and_preprocess_images(train_directory, train_md5hash_to_label)\n",
    "val_images, val_labels = load_and_preprocess_images(val_directory, val_md5hash_to_label)\n",
    "test_images, test_labels = load_and_preprocess_images(test_directory, test_md5hash_to_label)"
   ]
  },
  {
   "cell_type": "markdown",
   "metadata": {},
   "source": [
    "## 10.2 GoogleNet (InceptionV3)"
   ]
  },
  {
   "cell_type": "code",
   "execution_count": 27,
   "metadata": {},
   "outputs": [
    {
     "name": "stdout",
     "output_type": "stream",
     "text": [
      "Epoch 1/20\n",
      "\u001b[1m52/52\u001b[0m \u001b[32m━━━━━━━━━━━━━━━━━━━━\u001b[0m\u001b[37m\u001b[0m \u001b[1m240s\u001b[0m 4s/step - categorical_accuracy: 0.0621 - f1_metric: 0.0195 - loss: 4.5104 - val_categorical_accuracy: 0.1198 - val_f1_metric: 0.0578 - val_loss: 4.0291\n",
      "Epoch 2/20\n",
      "\u001b[1m52/52\u001b[0m \u001b[32m━━━━━━━━━━━━━━━━━━━━\u001b[0m\u001b[37m\u001b[0m \u001b[1m221s\u001b[0m 4s/step - categorical_accuracy: 0.1509 - f1_metric: 0.0499 - loss: 3.8176 - val_categorical_accuracy: 0.1567 - val_f1_metric: 0.0958 - val_loss: 3.7539\n",
      "Epoch 3/20\n",
      "\u001b[1m52/52\u001b[0m \u001b[32m━━━━━━━━━━━━━━━━━━━━\u001b[0m\u001b[37m\u001b[0m \u001b[1m218s\u001b[0m 4s/step - categorical_accuracy: 0.2170 - f1_metric: 0.0842 - loss: 3.4118 - val_categorical_accuracy: 0.1748 - val_f1_metric: 0.1204 - val_loss: 3.6101\n",
      "Epoch 4/20\n",
      "\u001b[1m52/52\u001b[0m \u001b[32m━━━━━━━━━━━━━━━━━━━━\u001b[0m\u001b[37m\u001b[0m \u001b[1m220s\u001b[0m 4s/step - categorical_accuracy: 0.2587 - f1_metric: 0.1102 - loss: 3.1540 - val_categorical_accuracy: 0.1948 - val_f1_metric: 0.1309 - val_loss: 3.5598\n",
      "Epoch 5/20\n",
      "\u001b[1m52/52\u001b[0m \u001b[32m━━━━━━━━━━━━━━━━━━━━\u001b[0m\u001b[37m\u001b[0m \u001b[1m226s\u001b[0m 4s/step - categorical_accuracy: 0.2967 - f1_metric: 0.1340 - loss: 2.9474 - val_categorical_accuracy: 0.2063 - val_f1_metric: 0.1534 - val_loss: 3.4757\n",
      "Epoch 6/20\n",
      "\u001b[1m52/52\u001b[0m \u001b[32m━━━━━━━━━━━━━━━━━━━━\u001b[0m\u001b[37m\u001b[0m \u001b[1m224s\u001b[0m 4s/step - categorical_accuracy: 0.3440 - f1_metric: 0.1581 - loss: 2.7642 - val_categorical_accuracy: 0.2166 - val_f1_metric: 0.1589 - val_loss: 3.4224\n",
      "Epoch 7/20\n",
      "\u001b[1m52/52\u001b[0m \u001b[32m━━━━━━━━━━━━━━━━━━━━\u001b[0m\u001b[37m\u001b[0m \u001b[1m226s\u001b[0m 4s/step - categorical_accuracy: 0.3804 - f1_metric: 0.1801 - loss: 2.6071 - val_categorical_accuracy: 0.2281 - val_f1_metric: 0.1734 - val_loss: 3.3872\n",
      "Epoch 8/20\n",
      "\u001b[1m52/52\u001b[0m \u001b[32m━━━━━━━━━━━━━━━━━━━━\u001b[0m\u001b[37m\u001b[0m \u001b[1m224s\u001b[0m 4s/step - categorical_accuracy: 0.4025 - f1_metric: 0.1975 - loss: 2.4903 - val_categorical_accuracy: 0.2317 - val_f1_metric: 0.1797 - val_loss: 3.3634\n",
      "Epoch 9/20\n",
      "\u001b[1m52/52\u001b[0m \u001b[32m━━━━━━━━━━━━━━━━━━━━\u001b[0m\u001b[37m\u001b[0m \u001b[1m221s\u001b[0m 4s/step - categorical_accuracy: 0.4313 - f1_metric: 0.2225 - loss: 2.3601 - val_categorical_accuracy: 0.2323 - val_f1_metric: 0.1922 - val_loss: 3.3432\n",
      "Epoch 10/20\n",
      "\u001b[1m52/52\u001b[0m \u001b[32m━━━━━━━━━━━━━━━━━━━━\u001b[0m\u001b[37m\u001b[0m \u001b[1m220s\u001b[0m 4s/step - categorical_accuracy: 0.4602 - f1_metric: 0.2413 - loss: 2.2519 - val_categorical_accuracy: 0.2498 - val_f1_metric: 0.2050 - val_loss: 3.3108\n",
      "Epoch 11/20\n",
      "\u001b[1m52/52\u001b[0m \u001b[32m━━━━━━━━━━━━━━━━━━━━\u001b[0m\u001b[37m\u001b[0m \u001b[1m220s\u001b[0m 4s/step - categorical_accuracy: 0.4775 - f1_metric: 0.2581 - loss: 2.1380 - val_categorical_accuracy: 0.2468 - val_f1_metric: 0.2061 - val_loss: 3.3517\n",
      "Epoch 12/20\n",
      "\u001b[1m52/52\u001b[0m \u001b[32m━━━━━━━━━━━━━━━━━━━━\u001b[0m\u001b[37m\u001b[0m \u001b[1m220s\u001b[0m 4s/step - categorical_accuracy: 0.5034 - f1_metric: 0.2818 - loss: 2.0268 - val_categorical_accuracy: 0.2492 - val_f1_metric: 0.2095 - val_loss: 3.3348\n",
      "Epoch 13/20\n",
      "\u001b[1m52/52\u001b[0m \u001b[32m━━━━━━━━━━━━━━━━━━━━\u001b[0m\u001b[37m\u001b[0m \u001b[1m216s\u001b[0m 4s/step - categorical_accuracy: 0.5202 - f1_metric: 0.2932 - loss: 1.9493 - val_categorical_accuracy: 0.2468 - val_f1_metric: 0.2155 - val_loss: 3.3566\n",
      "Epoch 14/20\n",
      "\u001b[1m52/52\u001b[0m \u001b[32m━━━━━━━━━━━━━━━━━━━━\u001b[0m\u001b[37m\u001b[0m \u001b[1m218s\u001b[0m 4s/step - categorical_accuracy: 0.5521 - f1_metric: 0.3132 - loss: 1.8470 - val_categorical_accuracy: 0.2577 - val_f1_metric: 0.2255 - val_loss: 3.3470\n",
      "Epoch 15/20\n",
      "\u001b[1m52/52\u001b[0m \u001b[32m━━━━━━━━━━━━━━━━━━━━\u001b[0m\u001b[37m\u001b[0m \u001b[1m216s\u001b[0m 4s/step - categorical_accuracy: 0.5639 - f1_metric: 0.3310 - loss: 1.7850 - val_categorical_accuracy: 0.2601 - val_f1_metric: 0.2330 - val_loss: 3.3555\n",
      "Epoch 16/20\n",
      "\u001b[1m52/52\u001b[0m \u001b[32m━━━━━━━━━━━━━━━━━━━━\u001b[0m\u001b[37m\u001b[0m \u001b[1m217s\u001b[0m 4s/step - categorical_accuracy: 0.5795 - f1_metric: 0.3458 - loss: 1.7131 - val_categorical_accuracy: 0.2535 - val_f1_metric: 0.2350 - val_loss: 3.3981\n",
      "Epoch 17/20\n",
      "\u001b[1m52/52\u001b[0m \u001b[32m━━━━━━━━━━━━━━━━━━━━\u001b[0m\u001b[37m\u001b[0m \u001b[1m219s\u001b[0m 4s/step - categorical_accuracy: 0.6094 - f1_metric: 0.3680 - loss: 1.6124 - val_categorical_accuracy: 0.2480 - val_f1_metric: 0.2374 - val_loss: 3.3981\n",
      "Epoch 18/20\n",
      "\u001b[1m52/52\u001b[0m \u001b[32m━━━━━━━━━━━━━━━━━━━━\u001b[0m\u001b[37m\u001b[0m \u001b[1m220s\u001b[0m 4s/step - categorical_accuracy: 0.6230 - f1_metric: 0.3809 - loss: 1.5522 - val_categorical_accuracy: 0.2680 - val_f1_metric: 0.2459 - val_loss: 3.4248\n",
      "Epoch 19/20\n",
      "\u001b[1m52/52\u001b[0m \u001b[32m━━━━━━━━━━━━━━━━━━━━\u001b[0m\u001b[37m\u001b[0m \u001b[1m218s\u001b[0m 4s/step - categorical_accuracy: 0.6453 - f1_metric: 0.4021 - loss: 1.4586 - val_categorical_accuracy: 0.2613 - val_f1_metric: 0.2489 - val_loss: 3.4114\n",
      "Epoch 20/20\n",
      "\u001b[1m52/52\u001b[0m \u001b[32m━━━━━━━━━━━━━━━━━━━━\u001b[0m\u001b[37m\u001b[0m \u001b[1m217s\u001b[0m 4s/step - categorical_accuracy: 0.6575 - f1_metric: 0.4159 - loss: 1.4121 - val_categorical_accuracy: 0.2644 - val_f1_metric: 0.2471 - val_loss: 3.4394\n"
     ]
    }
   ],
   "source": [
    "# Load pre-trained InceptionV3 model without top layers\n",
    "base_model = InceptionV3(weights='imagenet', include_top=False)\n",
    "\n",
    "# Freeze convolutional layers\n",
    "for layer in base_model.layers:\n",
    "    layer.trainable = False\n",
    "\n",
    "# Define input layers\n",
    "image_input = Input(shape=(224, 224, 3))\n",
    "numerical_input = Input(shape=(1,))\n",
    "\n",
    "# Apply base model to image input\n",
    "image_features = base_model(image_input)\n",
    "image_features = GlobalAveragePooling2D()(image_features)\n",
    "\n",
    "# Concatenate image features with numerical input\n",
    "concatenated = concatenate([image_features, numerical_input])\n",
    "\n",
    "# Add custom classification layers\n",
    "x = Dense(256, activation='relu')(concatenated)\n",
    "predictions = Dense(114, activation='softmax')(x)\n",
    "\n",
    "# Create model\n",
    "multi_input_gnet = Model(inputs=[image_input, numerical_input], outputs=predictions)\n",
    "\n",
    "# Compile model\n",
    "multi_input_gnet.compile(optimizer=Adam(learning_rate=0.001),\n",
    "              loss='categorical_crossentropy',\n",
    "              metrics=['categorical_accuracy', f1_metric])\n",
    "\n",
    "train_numerical_data = np.array(list(train_md5hash_to_fitzpatrick.values()))\n",
    "val_numerical_data = np.array(list(val_md5hash_to_fitzpatrick.values()))\n",
    "test_numerical_data = np.array(list(test_md5hash_to_fitzpatrick.values()))\n",
    "\n",
    "# Convert labels to one-hot encoded vectors\n",
    "train_labels_onehot = to_categorical(train_labels, num_classes=114)\n",
    "val_labels_onehot = to_categorical(val_labels, num_classes=114)\n",
    "test_labels_onehot = to_categorical(test_labels, num_classes=114)\n",
    "\n",
    "# Train the model\n",
    "history_multi_input_gnet = multi_input_gnet.fit(\n",
    "    x=[train_images, train_numerical_data],\n",
    "    y=train_labels_onehot,\n",
    "    epochs=20,\n",
    "    callbacks = callbacks_list_f1,\n",
    "    batch_size=256,\n",
    "    validation_data=([val_images, val_numerical_data], val_labels_onehot)\n",
    ")\n"
   ]
  },
  {
   "cell_type": "markdown",
   "metadata": {},
   "source": [
    "### 10.2.1 Evaluate model"
   ]
  },
  {
   "cell_type": "code",
   "execution_count": 115,
   "metadata": {},
   "outputs": [
    {
     "data": {
      "image/png": "[encoded data removed]",
      "text/plain": [
       "<Figure size 1080x360 with 3 Axes>"
      ]
     },
     "metadata": {
      "needs_background": "light"
     },
     "output_type": "display_data"
    },
    {
     "name": "stdout",
     "output_type": "stream",
     "text": [
      "Training Loss: 1.3138161897659302\n",
      "Training Categorical Accuracy: 0.6922844052314758\n",
      "Training Weighted F1-score: 0.5822300910949707\n",
      "Validation Loss: 3.4394338130950928\n",
      "Validation Categorical Accuracy: 0.26436781883239746\n",
      "Validation Weighted F1-score: 0.26845407485961914\n",
      "Test Loss: 3.3852505683898926\n",
      "Test Categorical Accuracy: 0.2698124647140503\n",
      "Test Weighted F1-score: 0.2846326529979706\n"
     ]
    }
   ],
   "source": [
    "training_plots(history_multi_input_gnet)\n",
    "\n",
    "test_loss, test_categorical_accuracy, test_f1_metric = multi_input_gnet.evaluate([test_images, test_numerical_data], test_labels_onehot, verbose=0)\n",
    "validation_loss, validation_categorical_accuracy, validation_f1_metric = multi_input_gnet.evaluate([val_images, val_numerical_data], val_labels_onehot, verbose=0)\n",
    "train_loss, train_categorical_accuracy, train_f1_metric = multi_input_gnet.evaluate([train_images, train_numerical_data], train_labels_onehot, verbose=0)\n",
    "\n",
    "# Print Loss, Categorical Accuracy, and Weighted F1 Score for Training and Validation Sets\n",
    "print(f\"Training Loss: {train_loss}\\nTraining Categorical Accuracy: {train_categorical_accuracy}\\nTraining Weighted F1-score: {train_f1_metric}\")\n",
    "print(f\"Validation Loss: {validation_loss}\\nValidation Categorical Accuracy: {validation_categorical_accuracy}\\nValidation Weighted F1-score: {validation_f1_metric}\")\n",
    "print(f\"Test Loss: {test_loss}\\nTest Categorical Accuracy: {test_categorical_accuracy}\\nTest Weighted F1-score: {test_f1_metric}\")"
   ]
  },
  {
   "cell_type": "markdown",
   "metadata": {},
   "source": [
    "We decided to start running 50 epochs because we saw the f1 score was still improving for the 20 epochs. We also used dropout to help with overfitting"
   ]
  },
  {
   "cell_type": "markdown",
   "metadata": {},
   "source": [
    "## 10.3 GoogleNet (InceptionV3) with dropout"
   ]
  },
  {
   "cell_type": "code",
   "execution_count": 62,
   "metadata": {},
   "outputs": [
    {
     "name": "stdout",
     "output_type": "stream",
     "text": [
      "Epoch 1/50\n",
      "\u001b[1m52/52\u001b[0m \u001b[32m━━━━━━━━━━━━━━━━━━━━\u001b[0m\u001b[37m\u001b[0m \u001b[1m247s\u001b[0m 5s/step - categorical_accuracy: 0.0355 - f1_metric: 0.0146 - loss: 4.6997 - val_categorical_accuracy: 0.0907 - val_f1_metric: 0.0355 - val_loss: 4.2552\n",
      "Epoch 2/50\n",
      "\u001b[1m52/52\u001b[0m \u001b[32m━━━━━━━━━━━━━━━━━━━━\u001b[0m\u001b[37m\u001b[0m \u001b[1m225s\u001b[0m 4s/step - categorical_accuracy: 0.0796 - f1_metric: 0.0279 - loss: 4.2446 - val_categorical_accuracy: 0.1101 - val_f1_metric: 0.0562 - val_loss: 4.0218\n",
      "Epoch 3/50\n",
      "\u001b[1m52/52\u001b[0m \u001b[32m━━━━━━━━━━━━━━━━━━━━\u001b[0m\u001b[37m\u001b[0m \u001b[1m221s\u001b[0m 4s/step - categorical_accuracy: 0.1155 - f1_metric: 0.0416 - loss: 3.9914 - val_categorical_accuracy: 0.1289 - val_f1_metric: 0.0737 - val_loss: 3.8730\n",
      "Epoch 4/50\n",
      "\u001b[1m52/52\u001b[0m \u001b[32m━━━━━━━━━━━━━━━━━━━━\u001b[0m\u001b[37m\u001b[0m \u001b[1m222s\u001b[0m 4s/step - categorical_accuracy: 0.1389 - f1_metric: 0.0527 - loss: 3.8081 - val_categorical_accuracy: 0.1488 - val_f1_metric: 0.0824 - val_loss: 3.7464\n",
      "Epoch 5/50\n",
      "\u001b[1m52/52\u001b[0m \u001b[32m━━━━━━━━━━━━━━━━━━━━\u001b[0m\u001b[37m\u001b[0m \u001b[1m223s\u001b[0m 4s/step - categorical_accuracy: 0.1559 - f1_metric: 0.0607 - loss: 3.6982 - val_categorical_accuracy: 0.1585 - val_f1_metric: 0.0895 - val_loss: 3.6768\n",
      "Epoch 6/50\n",
      "\u001b[1m52/52\u001b[0m \u001b[32m━━━━━━━━━━━━━━━━━━━━\u001b[0m\u001b[37m\u001b[0m \u001b[1m222s\u001b[0m 4s/step - categorical_accuracy: 0.1715 - f1_metric: 0.0735 - loss: 3.5666 - val_categorical_accuracy: 0.1694 - val_f1_metric: 0.0990 - val_loss: 3.6202\n",
      "Epoch 7/50\n",
      "\u001b[1m52/52\u001b[0m \u001b[32m━━━━━━━━━━━━━━━━━━━━\u001b[0m\u001b[37m\u001b[0m \u001b[1m220s\u001b[0m 4s/step - categorical_accuracy: 0.1897 - f1_metric: 0.0814 - loss: 3.4697 - val_categorical_accuracy: 0.1881 - val_f1_metric: 0.1027 - val_loss: 3.5653\n",
      "Epoch 8/50\n",
      "\u001b[1m52/52\u001b[0m \u001b[32m━━━━━━━━━━━━━━━━━━━━\u001b[0m\u001b[37m\u001b[0m \u001b[1m221s\u001b[0m 4s/step - categorical_accuracy: 0.2072 - f1_metric: 0.0893 - loss: 3.3881 - val_categorical_accuracy: 0.1936 - val_f1_metric: 0.1151 - val_loss: 3.4974\n",
      "Epoch 9/50\n",
      "\u001b[1m52/52\u001b[0m \u001b[32m━━━━━━━━━━━━━━━━━━━━\u001b[0m\u001b[37m\u001b[0m \u001b[1m221s\u001b[0m 4s/step - categorical_accuracy: 0.2173 - f1_metric: 0.0959 - loss: 3.3185 - val_categorical_accuracy: 0.2002 - val_f1_metric: 0.1193 - val_loss: 3.4710\n",
      "Epoch 10/50\n",
      "\u001b[1m52/52\u001b[0m \u001b[32m━━━━━━━━━━━━━━━━━━━━\u001b[0m\u001b[37m\u001b[0m \u001b[1m221s\u001b[0m 4s/step - categorical_accuracy: 0.2269 - f1_metric: 0.1016 - loss: 3.2608 - val_categorical_accuracy: 0.2166 - val_f1_metric: 0.1281 - val_loss: 3.4390\n",
      "Epoch 11/50\n",
      "\u001b[1m52/52\u001b[0m \u001b[32m━━━━━━━━━━━━━━━━━━━━\u001b[0m\u001b[37m\u001b[0m \u001b[1m219s\u001b[0m 4s/step - categorical_accuracy: 0.2273 - f1_metric: 0.1063 - loss: 3.2111 - val_categorical_accuracy: 0.2123 - val_f1_metric: 0.1326 - val_loss: 3.4151\n",
      "Epoch 12/50\n",
      "\u001b[1m52/52\u001b[0m \u001b[32m━━━━━━━━━━━━━━━━━━━━\u001b[0m\u001b[37m\u001b[0m \u001b[1m221s\u001b[0m 4s/step - categorical_accuracy: 0.2486 - f1_metric: 0.1178 - loss: 3.1119 - val_categorical_accuracy: 0.2208 - val_f1_metric: 0.1357 - val_loss: 3.3953\n",
      "Epoch 13/50\n",
      "\u001b[1m52/52\u001b[0m \u001b[32m━━━━━━━━━━━━━━━━━━━━\u001b[0m\u001b[37m\u001b[0m \u001b[1m223s\u001b[0m 4s/step - categorical_accuracy: 0.2552 - f1_metric: 0.1228 - loss: 3.0839 - val_categorical_accuracy: 0.2244 - val_f1_metric: 0.1439 - val_loss: 3.3766\n",
      "Epoch 14/50\n",
      "\u001b[1m52/52\u001b[0m \u001b[32m━━━━━━━━━━━━━━━━━━━━\u001b[0m\u001b[37m\u001b[0m \u001b[1m220s\u001b[0m 4s/step - categorical_accuracy: 0.2674 - f1_metric: 0.1301 - loss: 3.0170 - val_categorical_accuracy: 0.2269 - val_f1_metric: 0.1470 - val_loss: 3.3525\n",
      "Epoch 15/50\n",
      "\u001b[1m52/52\u001b[0m \u001b[32m━━━━━━━━━━━━━━━━━━━━\u001b[0m\u001b[37m\u001b[0m \u001b[1m221s\u001b[0m 4s/step - categorical_accuracy: 0.2801 - f1_metric: 0.1352 - loss: 2.9914 - val_categorical_accuracy: 0.2250 - val_f1_metric: 0.1530 - val_loss: 3.3396\n",
      "Epoch 16/50\n",
      "\u001b[1m52/52\u001b[0m \u001b[32m━━━━━━━━━━━━━━━━━━━━\u001b[0m\u001b[37m\u001b[0m \u001b[1m221s\u001b[0m 4s/step - categorical_accuracy: 0.2840 - f1_metric: 0.1421 - loss: 2.9203 - val_categorical_accuracy: 0.2257 - val_f1_metric: 0.1568 - val_loss: 3.3231\n",
      "Epoch 17/50\n",
      "\u001b[1m52/52\u001b[0m \u001b[32m━━━━━━━━━━━━━━━━━━━━\u001b[0m\u001b[37m\u001b[0m \u001b[1m220s\u001b[0m 4s/step - categorical_accuracy: 0.2884 - f1_metric: 0.1448 - loss: 2.8994 - val_categorical_accuracy: 0.2238 - val_f1_metric: 0.1650 - val_loss: 3.3154\n",
      "Epoch 18/50\n",
      "\u001b[1m52/52\u001b[0m \u001b[32m━━━━━━━━━━━━━━━━━━━━\u001b[0m\u001b[37m\u001b[0m \u001b[1m221s\u001b[0m 4s/step - categorical_accuracy: 0.2922 - f1_metric: 0.1523 - loss: 2.8605 - val_categorical_accuracy: 0.2329 - val_f1_metric: 0.1647 - val_loss: 3.3076\n",
      "Epoch 19/50\n",
      "\u001b[1m52/52\u001b[0m \u001b[32m━━━━━━━━━━━━━━━━━━━━\u001b[0m\u001b[37m\u001b[0m \u001b[1m222s\u001b[0m 4s/step - categorical_accuracy: 0.3068 - f1_metric: 0.1570 - loss: 2.8084 - val_categorical_accuracy: 0.2347 - val_f1_metric: 0.1705 - val_loss: 3.2901\n",
      "Epoch 20/50\n",
      "\u001b[1m52/52\u001b[0m \u001b[32m━━━━━━━━━━━━━━━━━━━━\u001b[0m\u001b[37m\u001b[0m \u001b[1m219s\u001b[0m 4s/step - categorical_accuracy: 0.3085 - f1_metric: 0.1650 - loss: 2.7684 - val_categorical_accuracy: 0.2450 - val_f1_metric: 0.1631 - val_loss: 3.2957\n",
      "Epoch 21/50\n",
      "\u001b[1m52/52\u001b[0m \u001b[32m━━━━━━━━━━━━━━━━━━━━\u001b[0m\u001b[37m\u001b[0m \u001b[1m218s\u001b[0m 4s/step - categorical_accuracy: 0.3224 - f1_metric: 0.1674 - loss: 2.7339 - val_categorical_accuracy: 0.2347 - val_f1_metric: 0.1712 - val_loss: 3.2998\n",
      "Epoch 22/50\n",
      "\u001b[1m52/52\u001b[0m \u001b[32m━━━━━━━━━━━━━━━━━━━━\u001b[0m\u001b[37m\u001b[0m \u001b[1m220s\u001b[0m 4s/step - categorical_accuracy: 0.3196 - f1_metric: 0.1694 - loss: 2.7167 - val_categorical_accuracy: 0.2426 - val_f1_metric: 0.1680 - val_loss: 3.2816\n",
      "Epoch 23/50\n",
      "\u001b[1m52/52\u001b[0m \u001b[32m━━━━━━━━━━━━━━━━━━━━\u001b[0m\u001b[37m\u001b[0m \u001b[1m219s\u001b[0m 4s/step - categorical_accuracy: 0.3393 - f1_metric: 0.1783 - loss: 2.6653 - val_categorical_accuracy: 0.2462 - val_f1_metric: 0.1797 - val_loss: 3.2974\n",
      "Epoch 24/50\n",
      "\u001b[1m52/52\u001b[0m \u001b[32m━━━━━━━━━━━━━━━━━━━━\u001b[0m\u001b[37m\u001b[0m \u001b[1m224s\u001b[0m 4s/step - categorical_accuracy: 0.3369 - f1_metric: 0.1845 - loss: 2.6402 - val_categorical_accuracy: 0.2347 - val_f1_metric: 0.1790 - val_loss: 3.2751\n",
      "Epoch 25/50\n",
      "\u001b[1m52/52\u001b[0m \u001b[32m━━━━━━━━━━━━━━━━━━━━\u001b[0m\u001b[37m\u001b[0m \u001b[1m221s\u001b[0m 4s/step - categorical_accuracy: 0.3394 - f1_metric: 0.1879 - loss: 2.6103 - val_categorical_accuracy: 0.2474 - val_f1_metric: 0.1748 - val_loss: 3.2745\n",
      "Epoch 26/50\n",
      "\u001b[1m52/52\u001b[0m \u001b[32m━━━━━━━━━━━━━━━━━━━━\u001b[0m\u001b[37m\u001b[0m \u001b[1m219s\u001b[0m 4s/step - categorical_accuracy: 0.3544 - f1_metric: 0.1942 - loss: 2.5639 - val_categorical_accuracy: 0.2456 - val_f1_metric: 0.1872 - val_loss: 3.2775\n",
      "Epoch 27/50\n",
      "\u001b[1m52/52\u001b[0m \u001b[32m━━━━━━━━━━━━━━━━━━━━\u001b[0m\u001b[37m\u001b[0m \u001b[1m218s\u001b[0m 4s/step - categorical_accuracy: 0.3557 - f1_metric: 0.1953 - loss: 2.5499 - val_categorical_accuracy: 0.2559 - val_f1_metric: 0.1856 - val_loss: 3.2571\n",
      "Epoch 28/50\n",
      "\u001b[1m52/52\u001b[0m \u001b[32m━━━━━━━━━━━━━━━━━━━━\u001b[0m\u001b[37m\u001b[0m \u001b[1m221s\u001b[0m 4s/step - categorical_accuracy: 0.3620 - f1_metric: 0.2011 - loss: 2.5075 - val_categorical_accuracy: 0.2589 - val_f1_metric: 0.1904 - val_loss: 3.2600\n",
      "Epoch 29/50\n",
      "\u001b[1m52/52\u001b[0m \u001b[32m━━━━━━━━━━━━━━━━━━━━\u001b[0m\u001b[37m\u001b[0m \u001b[1m219s\u001b[0m 4s/step - categorical_accuracy: 0.3672 - f1_metric: 0.2047 - loss: 2.4870 - val_categorical_accuracy: 0.2553 - val_f1_metric: 0.1958 - val_loss: 3.2640\n",
      "Epoch 30/50\n",
      "\u001b[1m52/52\u001b[0m \u001b[32m━━━━━━━━━━━━━━━━━━━━\u001b[0m\u001b[37m\u001b[0m \u001b[1m220s\u001b[0m 4s/step - categorical_accuracy: 0.3762 - f1_metric: 0.2119 - loss: 2.4669 - val_categorical_accuracy: 0.2420 - val_f1_metric: 0.1988 - val_loss: 3.2759\n",
      "Epoch 31/50\n",
      "\u001b[1m52/52\u001b[0m \u001b[32m━━━━━━━━━━━━━━━━━━━━\u001b[0m\u001b[37m\u001b[0m \u001b[1m217s\u001b[0m 4s/step - categorical_accuracy: 0.3787 - f1_metric: 0.2172 - loss: 2.4425 - val_categorical_accuracy: 0.2492 - val_f1_metric: 0.1953 - val_loss: 3.2794\n",
      "Epoch 32/50\n",
      "\u001b[1m52/52\u001b[0m \u001b[32m━━━━━━━━━━━━━━━━━━━━\u001b[0m\u001b[37m\u001b[0m \u001b[1m219s\u001b[0m 4s/step - categorical_accuracy: 0.3695 - f1_metric: 0.2159 - loss: 2.4417 - val_categorical_accuracy: 0.2553 - val_f1_metric: 0.2048 - val_loss: 3.2784\n",
      "Epoch 33/50\n",
      "\u001b[1m52/52\u001b[0m \u001b[32m━━━━━━━━━━━━━━━━━━━━\u001b[0m\u001b[37m\u001b[0m \u001b[1m218s\u001b[0m 4s/step - categorical_accuracy: 0.3957 - f1_metric: 0.2293 - loss: 2.3565 - val_categorical_accuracy: 0.2438 - val_f1_metric: 0.1964 - val_loss: 3.2748\n",
      "Epoch 34/50\n",
      "\u001b[1m52/52\u001b[0m \u001b[32m━━━━━━━━━━━━━━━━━━━━\u001b[0m\u001b[37m\u001b[0m \u001b[1m219s\u001b[0m 4s/step - categorical_accuracy: 0.3866 - f1_metric: 0.2264 - loss: 2.3816 - val_categorical_accuracy: 0.2468 - val_f1_metric: 0.2005 - val_loss: 3.2835\n",
      "Epoch 35/50\n",
      "\u001b[1m52/52\u001b[0m \u001b[32m━━━━━━━━━━━━━━━━━━━━\u001b[0m\u001b[37m\u001b[0m \u001b[1m218s\u001b[0m 4s/step - categorical_accuracy: 0.3987 - f1_metric: 0.2377 - loss: 2.3009 - val_categorical_accuracy: 0.2444 - val_f1_metric: 0.1974 - val_loss: 3.2833\n",
      "Epoch 36/50\n",
      "\u001b[1m52/52\u001b[0m \u001b[32m━━━━━━━━━━━━━━━━━━━━\u001b[0m\u001b[37m\u001b[0m \u001b[1m218s\u001b[0m 4s/step - categorical_accuracy: 0.4005 - f1_metric: 0.2360 - loss: 2.3118 - val_categorical_accuracy: 0.2498 - val_f1_metric: 0.2016 - val_loss: 3.2776\n",
      "Epoch 37/50\n",
      "\u001b[1m52/52\u001b[0m \u001b[32m━━━━━━━━━━━━━━━━━━━━\u001b[0m\u001b[37m\u001b[0m \u001b[1m217s\u001b[0m 4s/step - categorical_accuracy: 0.4069 - f1_metric: 0.2406 - loss: 2.2929 - val_categorical_accuracy: 0.2517 - val_f1_metric: 0.2018 - val_loss: 3.2672\n",
      "Epoch 38/50\n",
      "\u001b[1m52/52\u001b[0m \u001b[32m━━━━━━━━━━━━━━━━━━━━\u001b[0m\u001b[37m\u001b[0m \u001b[1m218s\u001b[0m 4s/step - categorical_accuracy: 0.4174 - f1_metric: 0.2426 - loss: 2.2630 - val_categorical_accuracy: 0.2523 - val_f1_metric: 0.2112 - val_loss: 3.2957\n",
      "Epoch 39/50\n",
      "\u001b[1m52/52\u001b[0m \u001b[32m━━━━━━━━━━━━━━━━━━━━\u001b[0m\u001b[37m\u001b[0m \u001b[1m217s\u001b[0m 4s/step - categorical_accuracy: 0.4173 - f1_metric: 0.2535 - loss: 2.2362 - val_categorical_accuracy: 0.2571 - val_f1_metric: 0.2114 - val_loss: 3.3044\n",
      "Epoch 40/50\n",
      "\u001b[1m52/52\u001b[0m \u001b[32m━━━━━━━━━━━━━━━━━━━━\u001b[0m\u001b[37m\u001b[0m \u001b[1m220s\u001b[0m 4s/step - categorical_accuracy: 0.4170 - f1_metric: 0.2522 - loss: 2.2420 - val_categorical_accuracy: 0.2553 - val_f1_metric: 0.2173 - val_loss: 3.3071\n",
      "Epoch 41/50\n",
      "\u001b[1m52/52\u001b[0m \u001b[32m━━━━━━━━━━━━━━━━━━━━\u001b[0m\u001b[37m\u001b[0m \u001b[1m217s\u001b[0m 4s/step - categorical_accuracy: 0.4314 - f1_metric: 0.2596 - loss: 2.1911 - val_categorical_accuracy: 0.2492 - val_f1_metric: 0.2117 - val_loss: 3.2976\n",
      "Epoch 42/50\n",
      "\u001b[1m52/52\u001b[0m \u001b[32m━━━━━━━━━━━━━━━━━━━━\u001b[0m\u001b[37m\u001b[0m \u001b[1m218s\u001b[0m 4s/step - categorical_accuracy: 0.4274 - f1_metric: 0.2603 - loss: 2.1829 - val_categorical_accuracy: 0.2698 - val_f1_metric: 0.2182 - val_loss: 3.3023\n",
      "Epoch 43/50\n",
      "\u001b[1m52/52\u001b[0m \u001b[32m━━━━━━━━━━━━━━━━━━━━\u001b[0m\u001b[37m\u001b[0m \u001b[1m221s\u001b[0m 4s/step - categorical_accuracy: 0.4245 - f1_metric: 0.2581 - loss: 2.1744 - val_categorical_accuracy: 0.2595 - val_f1_metric: 0.2189 - val_loss: 3.3050\n",
      "Epoch 44/50\n",
      "\u001b[1m52/52\u001b[0m \u001b[32m━━━━━━━━━━━━━━━━━━━━\u001b[0m\u001b[37m\u001b[0m \u001b[1m218s\u001b[0m 4s/step - categorical_accuracy: 0.4358 - f1_metric: 0.2702 - loss: 2.1279 - val_categorical_accuracy: 0.2626 - val_f1_metric: 0.2283 - val_loss: 3.3534\n",
      "Epoch 45/50\n",
      "\u001b[1m52/52\u001b[0m \u001b[32m━━━━━━━━━━━━━━━━━━━━\u001b[0m\u001b[37m\u001b[0m \u001b[1m217s\u001b[0m 4s/step - categorical_accuracy: 0.4346 - f1_metric: 0.2726 - loss: 2.1329 - val_categorical_accuracy: 0.2559 - val_f1_metric: 0.2179 - val_loss: 3.3097\n",
      "Epoch 46/50\n",
      "\u001b[1m52/52\u001b[0m \u001b[32m━━━━━━━━━━━━━━━━━━━━\u001b[0m\u001b[37m\u001b[0m \u001b[1m217s\u001b[0m 4s/step - categorical_accuracy: 0.4358 - f1_metric: 0.2736 - loss: 2.1082 - val_categorical_accuracy: 0.2644 - val_f1_metric: 0.2155 - val_loss: 3.2987\n",
      "Epoch 47/50\n",
      "\u001b[1m52/52\u001b[0m \u001b[32m━━━━━━━━━━━━━━━━━━━━\u001b[0m\u001b[37m\u001b[0m \u001b[1m218s\u001b[0m 4s/step - categorical_accuracy: 0.4462 - f1_metric: 0.2726 - loss: 2.1081 - val_categorical_accuracy: 0.2644 - val_f1_metric: 0.2179 - val_loss: 3.3391\n",
      "Epoch 48/50\n",
      "\u001b[1m52/52\u001b[0m \u001b[32m━━━━━━━━━━━━━━━━━━━━\u001b[0m\u001b[37m\u001b[0m \u001b[1m218s\u001b[0m 4s/step - categorical_accuracy: 0.4468 - f1_metric: 0.2811 - loss: 2.0655 - val_categorical_accuracy: 0.2607 - val_f1_metric: 0.2250 - val_loss: 3.3332\n",
      "Epoch 49/50\n",
      "\u001b[1m52/52\u001b[0m \u001b[32m━━━━━━━━━━━━━━━━━━━━\u001b[0m\u001b[37m\u001b[0m \u001b[1m219s\u001b[0m 4s/step - categorical_accuracy: 0.4476 - f1_metric: 0.2850 - loss: 2.0543 - val_categorical_accuracy: 0.2577 - val_f1_metric: 0.2213 - val_loss: 3.3418\n",
      "Epoch 50/50\n",
      "\u001b[1m52/52\u001b[0m \u001b[32m━━━━━━━━━━━━━━━━━━━━\u001b[0m\u001b[37m\u001b[0m \u001b[1m219s\u001b[0m 4s/step - categorical_accuracy: 0.4525 - f1_metric: 0.2877 - loss: 2.0294 - val_categorical_accuracy: 0.2523 - val_f1_metric: 0.2204 - val_loss: 3.3535\n"
     ]
    }
   ],
   "source": [
    "# Load pre-trained InceptionV3 model without top layers\n",
    "base_model = InceptionV3(weights='imagenet', include_top=False)\n",
    "\n",
    "# Freeze convolutional layers\n",
    "for layer in base_model.layers:\n",
    "    layer.trainable = False\n",
    "\n",
    "# Define input layers\n",
    "image_input = Input(shape=(224, 224, 3))\n",
    "numerical_input = Input(shape=(1,))\n",
    "\n",
    "# Apply base model to image input\n",
    "image_features = base_model(image_input)\n",
    "image_features = GlobalAveragePooling2D()(image_features)\n",
    "\n",
    "# Concatenate image features with numerical input\n",
    "concatenated = concatenate([image_features, numerical_input])\n",
    "\n",
    "# Add custom classification layers\n",
    "x = Dense(256, activation='relu')(concatenated)\n",
    "x = Dropout(0.4)(x)\n",
    "predictions = Dense(114, activation='softmax')(x) \n",
    "\n",
    "# Create model\n",
    "multi_input_gnet_dp = Model(inputs=[image_input, numerical_input], outputs=predictions)\n",
    "\n",
    "# Compile model\n",
    "multi_input_gnet_dp.compile(optimizer=Adam(learning_rate=0.001),\n",
    "              loss='categorical_crossentropy',\n",
    "              metrics=['categorical_accuracy', f1_metric])\n",
    "\n",
    "train_numerical_data = np.array(list(train_md5hash_to_fitzpatrick.values()))\n",
    "val_numerical_data = np.array(list(val_md5hash_to_fitzpatrick.values()))\n",
    "test_numerical_data = np.array(list(test_md5hash_to_fitzpatrick.values()))\n",
    "\n",
    "# Convert labels to one-hot encoded vectors\n",
    "train_labels_onehot = to_categorical(train_labels, num_classes=114)\n",
    "val_labels_onehot = to_categorical(val_labels, num_classes=114)\n",
    "test_labels_onehot = to_categorical(test_labels, num_classes=114)\n",
    "\n",
    "# Train the model\n",
    "history_multi_input_gnet_dp = multi_input_gnet_dp.fit(\n",
    "    x=[train_images, train_numerical_data],\n",
    "    y=train_labels_onehot,\n",
    "    epochs=50,\n",
    "    callbacks = callbacks_list_f1,\n",
    "    batch_size=256,\n",
    "    validation_data=([val_images, val_numerical_data], val_labels_onehot)\n",
    ")\n"
   ]
  },
  {
   "cell_type": "markdown",
   "metadata": {},
   "source": [
    "### 10.3.1 Evaluate model"
   ]
  },
  {
   "cell_type": "code",
   "execution_count": 63,
   "metadata": {},
   "outputs": [
    {
     "data": {
      "image/png": "[encoded data removed]",
      "text/plain": [
       "<Figure size 1080x360 with 3 Axes>"
      ]
     },
     "metadata": {
      "needs_background": "light"
     },
     "output_type": "display_data"
    },
    {
     "name": "stdout",
     "output_type": "stream",
     "text": [
      "Training Loss: 1.4215595722198486\n",
      "Training Categorical Accuracy: 0.6874432563781738\n",
      "Training Weighted F1-score: 0.5259280204772949\n",
      "Validation Loss: 3.3534674644470215\n",
      "Validation Categorical Accuracy: 0.25226861238479614\n",
      "Validation Weighted F1-score: 0.23881927132606506\n",
      "Test Loss: 3.3046352863311768\n",
      "Test Categorical Accuracy: 0.26134300231933594\n",
      "Test Weighted F1-score: 0.2478131651878357\n"
     ]
    }
   ],
   "source": [
    "training_plots(history_multi_input_gnet_dp)\n",
    "\n",
    "test_loss, test_categorical_accuracy, test_f1_metric = multi_input_gnet_dp.evaluate([test_images, test_numerical_data], test_labels_onehot, verbose=0)\n",
    "validation_loss, validation_categorical_accuracy, validation_f1_metric = multi_input_gnet_dp.evaluate([val_images, val_numerical_data], val_labels_onehot, verbose=0)\n",
    "train_loss, train_categorical_accuracy, train_f1_metric = multi_input_gnet_dp.evaluate([train_images, train_numerical_data], train_labels_onehot, verbose=0)\n",
    "\n",
    "# Print Loss, Categorical Accuracy, and Weighted F1 Score for Training and Validation Sets\n",
    "print(f\"Training Loss: {train_loss}\\nTraining Categorical Accuracy: {train_categorical_accuracy}\\nTraining Weighted F1-score: {train_f1_metric}\")\n",
    "print(f\"Validation Loss: {validation_loss}\\nValidation Categorical Accuracy: {validation_categorical_accuracy}\\nValidation Weighted F1-score: {validation_f1_metric}\")\n",
    "print(f\"Test Loss: {test_loss}\\nTest Categorical Accuracy: {test_categorical_accuracy}\\nTest Weighted F1-score: {test_f1_metric}\")"
   ]
  },
  {
   "cell_type": "markdown",
   "metadata": {},
   "source": [
    "## 10.4 ResNet101V2 with dropout"
   ]
  },
  {
   "cell_type": "code",
   "execution_count": 35,
   "metadata": {},
   "outputs": [
    {
     "name": "stdout",
     "output_type": "stream",
     "text": [
      "Epoch 1/50\n",
      "\u001b[1m52/52\u001b[0m \u001b[32m━━━━━━━━━━━━━━━━━━━━\u001b[0m\u001b[37m\u001b[0m \u001b[1m709s\u001b[0m 13s/step - categorical_accuracy: 0.0670 - f1_metric: 0.0264 - loss: 4.5488 - val_categorical_accuracy: 0.1736 - val_f1_metric: 0.0933 - val_loss: 3.7225\n",
      "Epoch 2/50\n",
      "\u001b[1m52/52\u001b[0m \u001b[32m━━━━━━━━━━━━━━━━━━━━\u001b[0m\u001b[37m\u001b[0m \u001b[1m684s\u001b[0m 13s/step - categorical_accuracy: 0.1853 - f1_metric: 0.0837 - loss: 3.5388 - val_categorical_accuracy: 0.2166 - val_f1_metric: 0.1330 - val_loss: 3.4245\n",
      "Epoch 3/50\n",
      "\u001b[1m52/52\u001b[0m \u001b[32m━━━━━━━━━━━━━━━━━━━━\u001b[0m\u001b[37m\u001b[0m \u001b[1m684s\u001b[0m 13s/step - categorical_accuracy: 0.2697 - f1_metric: 0.1306 - loss: 3.0786 - val_categorical_accuracy: 0.2674 - val_f1_metric: 0.1730 - val_loss: 3.2135\n",
      "Epoch 4/50\n",
      "\u001b[1m52/52\u001b[0m \u001b[32m━━━━━━━━━━━━━━━━━━━━\u001b[0m\u001b[37m\u001b[0m \u001b[1m680s\u001b[0m 13s/step - categorical_accuracy: 0.3375 - f1_metric: 0.1762 - loss: 2.7458 - val_categorical_accuracy: 0.2922 - val_f1_metric: 0.2060 - val_loss: 3.1039\n",
      "Epoch 5/50\n",
      "\u001b[1m52/52\u001b[0m \u001b[32m━━━━━━━━━━━━━━━━━━━━\u001b[0m\u001b[37m\u001b[0m \u001b[1m683s\u001b[0m 13s/step - categorical_accuracy: 0.3987 - f1_metric: 0.2238 - loss: 2.4445 - val_categorical_accuracy: 0.3043 - val_f1_metric: 0.2286 - val_loss: 3.0209\n",
      "Epoch 6/50\n",
      "\u001b[1m52/52\u001b[0m \u001b[32m━━━━━━━━━━━━━━━━━━━━\u001b[0m\u001b[37m\u001b[0m \u001b[1m685s\u001b[0m 13s/step - categorical_accuracy: 0.4472 - f1_metric: 0.2645 - loss: 2.1857 - val_categorical_accuracy: 0.3255 - val_f1_metric: 0.2523 - val_loss: 2.9655\n",
      "Epoch 7/50\n",
      "\u001b[1m52/52\u001b[0m \u001b[32m━━━━━━━━━━━━━━━━━━━━\u001b[0m\u001b[37m\u001b[0m \u001b[1m688s\u001b[0m 13s/step - categorical_accuracy: 0.5032 - f1_metric: 0.3113 - loss: 1.9411 - val_categorical_accuracy: 0.3321 - val_f1_metric: 0.2670 - val_loss: 2.9304\n",
      "Epoch 8/50\n",
      "\u001b[1m52/52\u001b[0m \u001b[32m━━━━━━━━━━━━━━━━━━━━\u001b[0m\u001b[37m\u001b[0m \u001b[1m683s\u001b[0m 13s/step - categorical_accuracy: 0.5530 - f1_metric: 0.3536 - loss: 1.7481 - val_categorical_accuracy: 0.3424 - val_f1_metric: 0.2875 - val_loss: 2.8960\n",
      "Epoch 9/50\n",
      "\u001b[1m52/52\u001b[0m \u001b[32m━━━━━━━━━━━━━━━━━━━━\u001b[0m\u001b[37m\u001b[0m \u001b[1m690s\u001b[0m 13s/step - categorical_accuracy: 0.5895 - f1_metric: 0.3922 - loss: 1.5798 - val_categorical_accuracy: 0.3466 - val_f1_metric: 0.3077 - val_loss: 2.8688\n",
      "Epoch 10/50\n",
      "\u001b[1m52/52\u001b[0m \u001b[32m━━━━━━━━━━━━━━━━━━━━\u001b[0m\u001b[37m\u001b[0m \u001b[1m735s\u001b[0m 14s/step - categorical_accuracy: 0.6418 - f1_metric: 0.4372 - loss: 1.3881 - val_categorical_accuracy: 0.3721 - val_f1_metric: 0.3192 - val_loss: 2.8636\n",
      "Epoch 11/50\n",
      "\u001b[1m52/52\u001b[0m \u001b[32m━━━━━━━━━━━━━━━━━━━━\u001b[0m\u001b[37m\u001b[0m \u001b[1m682s\u001b[0m 13s/step - categorical_accuracy: 0.6880 - f1_metric: 0.4800 - loss: 1.2242 - val_categorical_accuracy: 0.3721 - val_f1_metric: 0.3366 - val_loss: 2.8574\n",
      "Epoch 12/50\n",
      "\u001b[1m52/52\u001b[0m \u001b[32m━━━━━━━━━━━━━━━━━━━━\u001b[0m\u001b[37m\u001b[0m \u001b[1m684s\u001b[0m 13s/step - categorical_accuracy: 0.7209 - f1_metric: 0.5182 - loss: 1.1033 - val_categorical_accuracy: 0.3654 - val_f1_metric: 0.3440 - val_loss: 2.8625\n",
      "Epoch 13/50\n",
      "\u001b[1m52/52\u001b[0m \u001b[32m━━━━━━━━━━━━━━━━━━━━\u001b[0m\u001b[37m\u001b[0m \u001b[1m680s\u001b[0m 13s/step - categorical_accuracy: 0.7349 - f1_metric: 0.5450 - loss: 1.0089 - val_categorical_accuracy: 0.3727 - val_f1_metric: 0.3568 - val_loss: 2.8997\n",
      "Epoch 14/50\n",
      "\u001b[1m52/52\u001b[0m \u001b[32m━━━━━━━━━━━━━━━━━━━━\u001b[0m\u001b[37m\u001b[0m \u001b[1m682s\u001b[0m 13s/step - categorical_accuracy: 0.7677 - f1_metric: 0.5751 - loss: 0.9119 - val_categorical_accuracy: 0.3817 - val_f1_metric: 0.3722 - val_loss: 2.9003\n",
      "Epoch 15/50\n",
      "\u001b[1m52/52\u001b[0m \u001b[32m━━━━━━━━━━━━━━━━━━━━\u001b[0m\u001b[37m\u001b[0m \u001b[1m682s\u001b[0m 13s/step - categorical_accuracy: 0.8003 - f1_metric: 0.6126 - loss: 0.7995 - val_categorical_accuracy: 0.3721 - val_f1_metric: 0.3735 - val_loss: 2.9125\n",
      "Epoch 16/50\n",
      "\u001b[1m52/52\u001b[0m \u001b[32m━━━━━━━━━━━━━━━━━━━━\u001b[0m\u001b[37m\u001b[0m \u001b[1m683s\u001b[0m 13s/step - categorical_accuracy: 0.8167 - f1_metric: 0.6379 - loss: 0.7288 - val_categorical_accuracy: 0.3781 - val_f1_metric: 0.3852 - val_loss: 2.8968\n",
      "Epoch 17/50\n",
      "\u001b[1m52/52\u001b[0m \u001b[32m━━━━━━━━━━━━━━━━━━━━\u001b[0m\u001b[37m\u001b[0m \u001b[1m682s\u001b[0m 13s/step - categorical_accuracy: 0.8365 - f1_metric: 0.6634 - loss: 0.6569 - val_categorical_accuracy: 0.3835 - val_f1_metric: 0.3949 - val_loss: 2.9488\n",
      "Epoch 18/50\n",
      "\u001b[1m52/52\u001b[0m \u001b[32m━━━━━━━━━━━━━━━━━━━━\u001b[0m\u001b[37m\u001b[0m \u001b[1m680s\u001b[0m 13s/step - categorical_accuracy: 0.8572 - f1_metric: 0.6932 - loss: 0.5868 - val_categorical_accuracy: 0.3944 - val_f1_metric: 0.4032 - val_loss: 2.9352\n",
      "Epoch 19/50\n",
      "\u001b[1m52/52\u001b[0m \u001b[32m━━━━━━━━━━━━━━━━━━━━\u001b[0m\u001b[37m\u001b[0m \u001b[1m681s\u001b[0m 13s/step - categorical_accuracy: 0.8695 - f1_metric: 0.7085 - loss: 0.5446 - val_categorical_accuracy: 0.3866 - val_f1_metric: 0.4028 - val_loss: 2.9746\n",
      "Epoch 20/50\n",
      "\u001b[1m52/52\u001b[0m \u001b[32m━━━━━━━━━━━━━━━━━━━━\u001b[0m\u001b[37m\u001b[0m \u001b[1m682s\u001b[0m 13s/step - categorical_accuracy: 0.8843 - f1_metric: 0.7307 - loss: 0.4919 - val_categorical_accuracy: 0.3799 - val_f1_metric: 0.4073 - val_loss: 3.0172\n",
      "Epoch 21/50\n",
      "\u001b[1m52/52\u001b[0m \u001b[32m━━━━━━━━━━━━━━━━━━━━\u001b[0m\u001b[37m\u001b[0m \u001b[1m681s\u001b[0m 13s/step - categorical_accuracy: 0.8915 - f1_metric: 0.7532 - loss: 0.4385 - val_categorical_accuracy: 0.3890 - val_f1_metric: 0.4076 - val_loss: 3.0431\n",
      "Epoch 22/50\n",
      "\u001b[1m52/52\u001b[0m \u001b[32m━━━━━━━━━━━━━━━━━━━━\u001b[0m\u001b[37m\u001b[0m \u001b[1m686s\u001b[0m 13s/step - categorical_accuracy: 0.8974 - f1_metric: 0.7601 - loss: 0.4180 - val_categorical_accuracy: 0.3848 - val_f1_metric: 0.4177 - val_loss: 3.0787\n",
      "Epoch 23/50\n",
      "\u001b[1m52/52\u001b[0m \u001b[32m━━━━━━━━━━━━━━━━━━━━\u001b[0m\u001b[37m\u001b[0m \u001b[1m682s\u001b[0m 13s/step - categorical_accuracy: 0.9124 - f1_metric: 0.7824 - loss: 0.3708 - val_categorical_accuracy: 0.3884 - val_f1_metric: 0.4223 - val_loss: 3.0864\n",
      "Epoch 24/50\n",
      "\u001b[1m52/52\u001b[0m \u001b[32m━━━━━━━━━━━━━━━━━━━━\u001b[0m\u001b[37m\u001b[0m \u001b[1m682s\u001b[0m 13s/step - categorical_accuracy: 0.9215 - f1_metric: 0.7960 - loss: 0.3401 - val_categorical_accuracy: 0.4017 - val_f1_metric: 0.4291 - val_loss: 3.0913\n",
      "Epoch 25/50\n",
      "\u001b[1m52/52\u001b[0m \u001b[32m━━━━━━━━━━━━━━━━━━━━\u001b[0m\u001b[37m\u001b[0m \u001b[1m681s\u001b[0m 13s/step - categorical_accuracy: 0.9315 - f1_metric: 0.8151 - loss: 0.3038 - val_categorical_accuracy: 0.3926 - val_f1_metric: 0.4312 - val_loss: 3.1308\n",
      "Epoch 26/50\n",
      "\u001b[1m52/52\u001b[0m \u001b[32m━━━━━━━━━━━━━━━━━━━━\u001b[0m\u001b[37m\u001b[0m \u001b[1m683s\u001b[0m 13s/step - categorical_accuracy: 0.9381 - f1_metric: 0.8247 - loss: 0.2801 - val_categorical_accuracy: 0.3962 - val_f1_metric: 0.4370 - val_loss: 3.1531\n",
      "Epoch 27/50\n",
      "\u001b[1m52/52\u001b[0m \u001b[32m━━━━━━━━━━━━━━━━━━━━\u001b[0m\u001b[37m\u001b[0m \u001b[1m683s\u001b[0m 13s/step - categorical_accuracy: 0.9372 - f1_metric: 0.8328 - loss: 0.2716 - val_categorical_accuracy: 0.3914 - val_f1_metric: 0.4346 - val_loss: 3.1716\n",
      "Epoch 28/50\n",
      "\u001b[1m52/52\u001b[0m \u001b[32m━━━━━━━━━━━━━━━━━━━━\u001b[0m\u001b[37m\u001b[0m \u001b[1m682s\u001b[0m 13s/step - categorical_accuracy: 0.9459 - f1_metric: 0.8465 - loss: 0.2421 - val_categorical_accuracy: 0.3896 - val_f1_metric: 0.4381 - val_loss: 3.2061\n",
      "Epoch 29/50\n",
      "\u001b[1m52/52\u001b[0m \u001b[32m━━━━━━━━━━━━━━━━━━━━\u001b[0m\u001b[37m\u001b[0m \u001b[1m681s\u001b[0m 13s/step - categorical_accuracy: 0.9499 - f1_metric: 0.8538 - loss: 0.2316 - val_categorical_accuracy: 0.3938 - val_f1_metric: 0.4422 - val_loss: 3.2476\n",
      "Epoch 30/50\n",
      "\u001b[1m52/52\u001b[0m \u001b[32m━━━━━━━━━━━━━━━━━━━━\u001b[0m\u001b[37m\u001b[0m \u001b[1m680s\u001b[0m 13s/step - categorical_accuracy: 0.9541 - f1_metric: 0.8580 - loss: 0.2218 - val_categorical_accuracy: 0.3969 - val_f1_metric: 0.4411 - val_loss: 3.2548\n",
      "Epoch 31/50\n",
      "\u001b[1m52/52\u001b[0m \u001b[32m━━━━━━━━━━━━━━━━━━━━\u001b[0m\u001b[37m\u001b[0m \u001b[1m679s\u001b[0m 13s/step - categorical_accuracy: 0.9570 - f1_metric: 0.8682 - loss: 0.2020 - val_categorical_accuracy: 0.3860 - val_f1_metric: 0.4469 - val_loss: 3.2638\n",
      "Epoch 32/50\n",
      "\u001b[1m52/52\u001b[0m \u001b[32m━━━━━━━━━━━━━━━━━━━━\u001b[0m\u001b[37m\u001b[0m \u001b[1m680s\u001b[0m 13s/step - categorical_accuracy: 0.9584 - f1_metric: 0.8755 - loss: 0.1898 - val_categorical_accuracy: 0.3914 - val_f1_metric: 0.4440 - val_loss: 3.3182\n",
      "Epoch 33/50\n",
      "\u001b[1m52/52\u001b[0m \u001b[32m━━━━━━━━━━━━━━━━━━━━\u001b[0m\u001b[37m\u001b[0m \u001b[1m681s\u001b[0m 13s/step - categorical_accuracy: 0.9614 - f1_metric: 0.8835 - loss: 0.1752 - val_categorical_accuracy: 0.3944 - val_f1_metric: 0.4508 - val_loss: 3.3012\n",
      "Epoch 34/50\n",
      "\u001b[1m52/52\u001b[0m \u001b[32m━━━━━━━━━━━━━━━━━━━━\u001b[0m\u001b[37m\u001b[0m \u001b[1m680s\u001b[0m 13s/step - categorical_accuracy: 0.9648 - f1_metric: 0.8889 - loss: 0.1679 - val_categorical_accuracy: 0.4083 - val_f1_metric: 0.4570 - val_loss: 3.3061\n",
      "Epoch 35/50\n",
      "\u001b[1m52/52\u001b[0m \u001b[32m━━━━━━━━━━━━━━━━━━━━\u001b[0m\u001b[37m\u001b[0m \u001b[1m681s\u001b[0m 13s/step - categorical_accuracy: 0.9682 - f1_metric: 0.8926 - loss: 0.1617 - val_categorical_accuracy: 0.3969 - val_f1_metric: 0.4515 - val_loss: 3.3520\n",
      "Epoch 36/50\n",
      "\u001b[1m52/52\u001b[0m \u001b[32m━━━━━━━━━━━━━━━━━━━━\u001b[0m\u001b[37m\u001b[0m \u001b[1m680s\u001b[0m 13s/step - categorical_accuracy: 0.9682 - f1_metric: 0.9008 - loss: 0.1487 - val_categorical_accuracy: 0.3969 - val_f1_metric: 0.4534 - val_loss: 3.3971\n",
      "Epoch 37/50\n",
      "\u001b[1m52/52\u001b[0m \u001b[32m━━━━━━━━━━━━━━━━━━━━\u001b[0m\u001b[37m\u001b[0m \u001b[1m681s\u001b[0m 13s/step - categorical_accuracy: 0.9674 - f1_metric: 0.9028 - loss: 0.1446 - val_categorical_accuracy: 0.3987 - val_f1_metric: 0.4571 - val_loss: 3.3984\n",
      "Epoch 38/50\n",
      "\u001b[1m52/52\u001b[0m \u001b[32m━━━━━━━━━━━━━━━━━━━━\u001b[0m\u001b[37m\u001b[0m \u001b[1m682s\u001b[0m 13s/step - categorical_accuracy: 0.9719 - f1_metric: 0.9083 - loss: 0.1356 - val_categorical_accuracy: 0.3993 - val_f1_metric: 0.4583 - val_loss: 3.4327\n",
      "Epoch 39/50\n",
      "\u001b[1m52/52\u001b[0m \u001b[32m━━━━━━━━━━━━━━━━━━━━\u001b[0m\u001b[37m\u001b[0m \u001b[1m681s\u001b[0m 13s/step - categorical_accuracy: 0.9732 - f1_metric: 0.9145 - loss: 0.1271 - val_categorical_accuracy: 0.3975 - val_f1_metric: 0.4599 - val_loss: 3.4478\n",
      "Epoch 40/50\n",
      "\u001b[1m52/52\u001b[0m \u001b[32m━━━━━━━━━━━━━━━━━━━━\u001b[0m\u001b[37m\u001b[0m \u001b[1m682s\u001b[0m 13s/step - categorical_accuracy: 0.9730 - f1_metric: 0.9146 - loss: 0.1257 - val_categorical_accuracy: 0.3981 - val_f1_metric: 0.4589 - val_loss: 3.5017\n",
      "Epoch 41/50\n",
      "\u001b[1m52/52\u001b[0m \u001b[32m━━━━━━━━━━━━━━━━━━━━\u001b[0m\u001b[37m\u001b[0m \u001b[1m681s\u001b[0m 13s/step - categorical_accuracy: 0.9731 - f1_metric: 0.9158 - loss: 0.1258 - val_categorical_accuracy: 0.4053 - val_f1_metric: 0.4685 - val_loss: 3.4621\n",
      "Epoch 42/50\n",
      "\u001b[1m52/52\u001b[0m \u001b[32m━━━━━━━━━━━━━━━━━━━━\u001b[0m\u001b[37m\u001b[0m \u001b[1m682s\u001b[0m 13s/step - categorical_accuracy: 0.9748 - f1_metric: 0.9189 - loss: 0.1178 - val_categorical_accuracy: 0.4029 - val_f1_metric: 0.4657 - val_loss: 3.4951\n",
      "Epoch 43/50\n",
      "\u001b[1m52/52\u001b[0m \u001b[32m━━━━━━━━━━━━━━━━━━━━\u001b[0m\u001b[37m\u001b[0m \u001b[1m682s\u001b[0m 13s/step - categorical_accuracy: 0.9802 - f1_metric: 0.9261 - loss: 0.1077 - val_categorical_accuracy: 0.3944 - val_f1_metric: 0.4639 - val_loss: 3.5385\n",
      "Epoch 44/50\n",
      "\u001b[1m52/52\u001b[0m \u001b[32m━━━━━━━━━━━━━━━━━━━━\u001b[0m\u001b[37m\u001b[0m \u001b[1m681s\u001b[0m 13s/step - categorical_accuracy: 0.9752 - f1_metric: 0.9257 - loss: 0.1108 - val_categorical_accuracy: 0.4053 - val_f1_metric: 0.4669 - val_loss: 3.5157\n",
      "Epoch 45/50\n",
      "\u001b[1m52/52\u001b[0m \u001b[32m━━━━━━━━━━━━━━━━━━━━\u001b[0m\u001b[37m\u001b[0m \u001b[1m681s\u001b[0m 13s/step - categorical_accuracy: 0.9800 - f1_metric: 0.9298 - loss: 0.1042 - val_categorical_accuracy: 0.3993 - val_f1_metric: 0.4738 - val_loss: 3.5549\n",
      "Epoch 46/50\n",
      "\u001b[1m52/52\u001b[0m \u001b[32m━━━━━━━━━━━━━━━━━━━━\u001b[0m\u001b[37m\u001b[0m \u001b[1m680s\u001b[0m 13s/step - categorical_accuracy: 0.9804 - f1_metric: 0.9328 - loss: 0.0983 - val_categorical_accuracy: 0.3962 - val_f1_metric: 0.4689 - val_loss: 3.5608\n",
      "Epoch 47/50\n",
      "\u001b[1m52/52\u001b[0m \u001b[32m━━━━━━━━━━━━━━━━━━━━\u001b[0m\u001b[37m\u001b[0m \u001b[1m693s\u001b[0m 13s/step - categorical_accuracy: 0.9782 - f1_metric: 0.9327 - loss: 0.0988 - val_categorical_accuracy: 0.3999 - val_f1_metric: 0.4666 - val_loss: 3.5829\n",
      "Epoch 48/50\n",
      "\u001b[1m52/52\u001b[0m \u001b[32m━━━━━━━━━━━━━━━━━━━━\u001b[0m\u001b[37m\u001b[0m \u001b[1m689s\u001b[0m 13s/step - categorical_accuracy: 0.9781 - f1_metric: 0.9314 - loss: 0.1020 - val_categorical_accuracy: 0.4035 - val_f1_metric: 0.4698 - val_loss: 3.6122\n",
      "Epoch 49/50\n",
      "\u001b[1m52/52\u001b[0m \u001b[32m━━━━━━━━━━━━━━━━━━━━\u001b[0m\u001b[37m\u001b[0m \u001b[1m682s\u001b[0m 13s/step - categorical_accuracy: 0.9791 - f1_metric: 0.9365 - loss: 0.0946 - val_categorical_accuracy: 0.4065 - val_f1_metric: 0.4701 - val_loss: 3.6250\n",
      "Epoch 50/50\n",
      "\u001b[1m52/52\u001b[0m \u001b[32m━━━━━━━━━━━━━━━━━━━━\u001b[0m\u001b[37m\u001b[0m \u001b[1m682s\u001b[0m 13s/step - categorical_accuracy: 0.9812 - f1_metric: 0.9345 - loss: 0.0966 - val_categorical_accuracy: 0.4005 - val_f1_metric: 0.4700 - val_loss: 3.6543\n"
     ]
    }
   ],
   "source": [
    "# Load pre-trained ResNet101V2 model without top layers\n",
    "base_model = ResNet101V2(weights='imagenet', include_top=False, input_shape=(224, 224, 3))\n",
    "\n",
    "# Freeze convolutional layers\n",
    "for layer in base_model.layers:\n",
    "    layer.trainable = False\n",
    "\n",
    "# Define input layers\n",
    "image_input = Input(shape=(224, 224, 3))\n",
    "numerical_input = Input(shape=(1,))\n",
    "\n",
    "# Apply base model to image input\n",
    "image_features = base_model(image_input)\n",
    "image_features = GlobalAveragePooling2D()(image_features)\n",
    "\n",
    "# Concatenate image features with numerical input\n",
    "concatenated = concatenate([image_features, numerical_input])\n",
    "\n",
    "# Add custom classification layers\n",
    "x = Dense(512, activation='relu')(concatenated)\n",
    "x = Dropout(0.4)(x)  # Add dropout with a dropout rate of 0.4\n",
    "predictions = Dense(114, activation='softmax')(x) \n",
    "\n",
    "# Create model\n",
    "multi_input_resnet = Model(inputs=[image_input, numerical_input], outputs=predictions)\n",
    "\n",
    "# Compile model\n",
    "multi_input_resnet.compile(optimizer=Adam(learning_rate=0.001),\n",
    "              loss='categorical_crossentropy',\n",
    "              metrics=['categorical_accuracy', f1_metric])\n",
    "\n",
    "train_numerical_data = np.array(list(train_md5hash_to_fitzpatrick.values()))\n",
    "val_numerical_data = np.array(list(val_md5hash_to_fitzpatrick.values()))\n",
    "test_numerical_data = np.array(list(test_md5hash_to_fitzpatrick.values()))\n",
    "\n",
    "# Convert labels to one-hot encoded vectors\n",
    "train_labels_onehot = to_categorical(train_labels, num_classes=114)\n",
    "val_labels_onehot = to_categorical(val_labels, num_classes=114)\n",
    "test_labels_onehot = to_categorical(test_labels, num_classes=114)\n",
    "\n",
    "# Train the model\n",
    "history_multi_input_resnet_dropout = multi_input_resnet.fit(\n",
    "    x=[train_images, train_numerical_data],\n",
    "    y=train_labels_onehot,\n",
    "    epochs=50,\n",
    "    callbacks = callbacks_list_f1,\n",
    "    batch_size=256,\n",
    "    validation_data=([val_images, val_numerical_data], val_labels_onehot)\n",
    ")"
   ]
  },
  {
   "cell_type": "markdown",
   "metadata": {},
   "source": [
    "### 10.4.1 Evaluate model"
   ]
  },
  {
   "cell_type": "code",
   "execution_count": 56,
   "metadata": {},
   "outputs": [
    {
     "data": {
      "image/png": "[encoded data removed]",
      "text/plain": [
       "<Figure size 1080x360 with 3 Axes>"
      ]
     },
     "metadata": {
      "needs_background": "light"
     },
     "output_type": "display_data"
    },
    {
     "name": "stdout",
     "output_type": "stream",
     "text": [
      "Training Loss: 0.007244527339935303\n",
      "Training Categorical Accuracy: 0.9996974468231201\n",
      "Training Weighted F1-score: 0.9965306520462036\n",
      "Validation Loss: 3.6543118953704834\n",
      "Validation Categorical Accuracy: 0.40048396587371826\n",
      "Validation Weighted F1-score: 0.49421313405036926\n",
      "Test Loss: 3.8258554935455322\n",
      "Test Categorical Accuracy: 0.37386569380760193\n",
      "Test Weighted F1-score: 0.47130873799324036\n"
     ]
    }
   ],
   "source": [
    "training_plots(history_multi_input_resnet_dropout)\n",
    "\n",
    "test_loss, test_categorical_accuracy, test_f1_metric = multi_input_resnet.evaluate([test_images, test_numerical_data], test_labels_onehot, verbose=0)\n",
    "validation_loss, validation_categorical_accuracy, validation_f1_metric = multi_input_resnet.evaluate([val_images, val_numerical_data], val_labels_onehot, verbose=0)\n",
    "train_loss, train_categorical_accuracy, train_f1_metric = multi_input_resnet.evaluate([train_images, train_numerical_data], train_labels_onehot, verbose=0)\n",
    "\n",
    "# Print Loss, Categorical Accuracy, and Weighted F1 Score for Training and Validation Sets\n",
    "print(f\"Training Loss: {train_loss}\\nTraining Categorical Accuracy: {train_categorical_accuracy}\\nTraining Weighted F1-score: {train_f1_metric}\")\n",
    "print(f\"Validation Loss: {validation_loss}\\nValidation Categorical Accuracy: {validation_categorical_accuracy}\\nValidation Weighted F1-score: {validation_f1_metric}\")\n",
    "print(f\"Test Loss: {test_loss}\\nTest Categorical Accuracy: {test_categorical_accuracy}\\nTest Weighted F1-score: {test_f1_metric}\")"
   ]
  }
 ],
 "metadata": {
  "kernelspec": {
   "display_name": "DM2324",
   "language": "python",
   "name": "python3"
  },
  "language_info": {
   "codemirror_mode": {
    "name": "ipython",
    "version": 3
   },
   "file_extension": ".py",
   "mimetype": "text/x-python",
   "name": "python",
   "nbconvert_exporter": "python",
   "pygments_lexer": "ipython3",
   "version": "3.10.11"
  }
 },
 "nbformat": 4,
 "nbformat_minor": 2
}
